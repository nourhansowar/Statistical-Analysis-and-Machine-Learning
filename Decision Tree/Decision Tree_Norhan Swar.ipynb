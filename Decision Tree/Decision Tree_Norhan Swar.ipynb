{
 "cells": [
  {
   "cell_type": "markdown",
   "id": "a4e3f90e",
   "metadata": {},
   "source": [
    "# Decision Tree"
   ]
  },
  {
   "cell_type": "markdown",
   "id": "d168d259",
   "metadata": {},
   "source": [
    "- use the following dataset <br>\n",
    "https://www.kaggle.com/competitions/titanic/data?select=test.csv\n",
    "- Implement a decision tree classifier and answer the following questions\n",
    "- you are free to use built in models\n"
   ]
  },
  {
   "cell_type": "code",
   "execution_count": 14,
   "id": "68673721",
   "metadata": {},
   "outputs": [],
   "source": [
    "# read the data\n",
    "import pandas as pd \n",
    "import numpy as np\n",
    "from sklearn.preprocessing import OneHotEncoder, LabelEncoder\n",
    "\n",
    "gender_data= pd.read_csv('gender_submission.csv')\n",
    "train_data = pd.read_csv('train.csv')\n",
    "test_data = pd.read_csv('test.csv')\n",
    "\n"
   ]
  },
  {
   "cell_type": "code",
   "execution_count": 15,
   "id": "09321e4b",
   "metadata": {},
   "outputs": [
    {
     "data": {
      "text/html": [
       "<div>\n",
       "<style scoped>\n",
       "    .dataframe tbody tr th:only-of-type {\n",
       "        vertical-align: middle;\n",
       "    }\n",
       "\n",
       "    .dataframe tbody tr th {\n",
       "        vertical-align: top;\n",
       "    }\n",
       "\n",
       "    .dataframe thead th {\n",
       "        text-align: right;\n",
       "    }\n",
       "</style>\n",
       "<table border=\"1\" class=\"dataframe\">\n",
       "  <thead>\n",
       "    <tr style=\"text-align: right;\">\n",
       "      <th></th>\n",
       "      <th>PassengerId</th>\n",
       "      <th>Survived</th>\n",
       "      <th>Pclass</th>\n",
       "      <th>Name</th>\n",
       "      <th>Sex</th>\n",
       "      <th>Age</th>\n",
       "      <th>SibSp</th>\n",
       "      <th>Parch</th>\n",
       "      <th>Ticket</th>\n",
       "      <th>Fare</th>\n",
       "      <th>Cabin</th>\n",
       "      <th>Embarked</th>\n",
       "    </tr>\n",
       "  </thead>\n",
       "  <tbody>\n",
       "    <tr>\n",
       "      <th>0</th>\n",
       "      <td>1</td>\n",
       "      <td>0</td>\n",
       "      <td>3</td>\n",
       "      <td>Braund, Mr. Owen Harris</td>\n",
       "      <td>male</td>\n",
       "      <td>22.0</td>\n",
       "      <td>1</td>\n",
       "      <td>0</td>\n",
       "      <td>A/5 21171</td>\n",
       "      <td>7.2500</td>\n",
       "      <td>NaN</td>\n",
       "      <td>S</td>\n",
       "    </tr>\n",
       "    <tr>\n",
       "      <th>1</th>\n",
       "      <td>2</td>\n",
       "      <td>1</td>\n",
       "      <td>1</td>\n",
       "      <td>Cumings, Mrs. John Bradley (Florence Briggs Th...</td>\n",
       "      <td>female</td>\n",
       "      <td>38.0</td>\n",
       "      <td>1</td>\n",
       "      <td>0</td>\n",
       "      <td>PC 17599</td>\n",
       "      <td>71.2833</td>\n",
       "      <td>C85</td>\n",
       "      <td>C</td>\n",
       "    </tr>\n",
       "    <tr>\n",
       "      <th>2</th>\n",
       "      <td>3</td>\n",
       "      <td>1</td>\n",
       "      <td>3</td>\n",
       "      <td>Heikkinen, Miss. Laina</td>\n",
       "      <td>female</td>\n",
       "      <td>26.0</td>\n",
       "      <td>0</td>\n",
       "      <td>0</td>\n",
       "      <td>STON/O2. 3101282</td>\n",
       "      <td>7.9250</td>\n",
       "      <td>NaN</td>\n",
       "      <td>S</td>\n",
       "    </tr>\n",
       "    <tr>\n",
       "      <th>3</th>\n",
       "      <td>4</td>\n",
       "      <td>1</td>\n",
       "      <td>1</td>\n",
       "      <td>Futrelle, Mrs. Jacques Heath (Lily May Peel)</td>\n",
       "      <td>female</td>\n",
       "      <td>35.0</td>\n",
       "      <td>1</td>\n",
       "      <td>0</td>\n",
       "      <td>113803</td>\n",
       "      <td>53.1000</td>\n",
       "      <td>C123</td>\n",
       "      <td>S</td>\n",
       "    </tr>\n",
       "    <tr>\n",
       "      <th>4</th>\n",
       "      <td>5</td>\n",
       "      <td>0</td>\n",
       "      <td>3</td>\n",
       "      <td>Allen, Mr. William Henry</td>\n",
       "      <td>male</td>\n",
       "      <td>35.0</td>\n",
       "      <td>0</td>\n",
       "      <td>0</td>\n",
       "      <td>373450</td>\n",
       "      <td>8.0500</td>\n",
       "      <td>NaN</td>\n",
       "      <td>S</td>\n",
       "    </tr>\n",
       "  </tbody>\n",
       "</table>\n",
       "</div>"
      ],
      "text/plain": [
       "   PassengerId  Survived  Pclass  \\\n",
       "0            1         0       3   \n",
       "1            2         1       1   \n",
       "2            3         1       3   \n",
       "3            4         1       1   \n",
       "4            5         0       3   \n",
       "\n",
       "                                                Name     Sex   Age  SibSp  \\\n",
       "0                            Braund, Mr. Owen Harris    male  22.0      1   \n",
       "1  Cumings, Mrs. John Bradley (Florence Briggs Th...  female  38.0      1   \n",
       "2                             Heikkinen, Miss. Laina  female  26.0      0   \n",
       "3       Futrelle, Mrs. Jacques Heath (Lily May Peel)  female  35.0      1   \n",
       "4                           Allen, Mr. William Henry    male  35.0      0   \n",
       "\n",
       "   Parch            Ticket     Fare Cabin Embarked  \n",
       "0      0         A/5 21171   7.2500   NaN        S  \n",
       "1      0          PC 17599  71.2833   C85        C  \n",
       "2      0  STON/O2. 3101282   7.9250   NaN        S  \n",
       "3      0            113803  53.1000  C123        S  \n",
       "4      0            373450   8.0500   NaN        S  "
      ]
     },
     "execution_count": 15,
     "metadata": {},
     "output_type": "execute_result"
    }
   ],
   "source": [
    "train_data.head()"
   ]
  },
  {
   "cell_type": "code",
   "execution_count": 16,
   "id": "ace3e399",
   "metadata": {},
   "outputs": [
    {
     "name": "stdout",
     "output_type": "stream",
     "text": [
      "PassengerId      int64\n",
      "Survived         int64\n",
      "Pclass           int64\n",
      "Name            object\n",
      "Sex             object\n",
      "Age            float64\n",
      "SibSp            int64\n",
      "Parch            int64\n",
      "Ticket          object\n",
      "Fare           float64\n",
      "Cabin           object\n",
      "Embarked        object\n",
      "dtype: object\n",
      "PassengerId      0\n",
      "Survived         0\n",
      "Pclass           0\n",
      "Name             0\n",
      "Sex              0\n",
      "Age            177\n",
      "SibSp            0\n",
      "Parch            0\n",
      "Ticket           0\n",
      "Fare             0\n",
      "Cabin          687\n",
      "Embarked         2\n",
      "dtype: int64\n"
     ]
    }
   ],
   "source": [
    "print(train_data.dtypes)\n",
    "print(train_data.isnull().sum())"
   ]
  },
  {
   "cell_type": "code",
   "execution_count": 17,
   "id": "471bbcc6",
   "metadata": {},
   "outputs": [
    {
     "name": "stderr",
     "output_type": "stream",
     "text": [
      "/tmp/ipykernel_58150/3848066604.py:2: FutureWarning: The default value of numeric_only in DataFrame.mean is deprecated. In a future version, it will default to False. In addition, specifying 'numeric_only=None' is deprecated. Select only valid columns or specify the value of numeric_only to silence this warning.\n",
      "  train_data.fillna(train_data.mean(),inplace=True)\n"
     ]
    }
   ],
   "source": [
    "#Handle Missing Values:\n",
    "train_data.fillna(train_data.mean(),inplace=True)\n"
   ]
  },
  {
   "cell_type": "code",
   "execution_count": 18,
   "id": "0ab1722e",
   "metadata": {},
   "outputs": [
    {
     "name": "stderr",
     "output_type": "stream",
     "text": [
      "/home/norhanswar/.local/lib/python3.10/site-packages/sklearn/preprocessing/_encoders.py:972: FutureWarning: `sparse` was renamed to `sparse_output` in version 1.2 and will be removed in 1.4. `sparse_output` is ignored unless you leave `sparse` to its default value.\n",
      "  warnings.warn(\n"
     ]
    }
   ],
   "source": [
    "# Identify categorical and numerical columns\n",
    "categorical_cols = [\"Sex\", \"Embarked\"]  # Replace with your categorical columns\n",
    "numerical_cols = [\"Age\", \"SibSp\", \"Parch\", \"Fare\"]  # Replace with your numerical columns\n",
    "\n",
    "\n",
    "\n",
    "# Create the one-hot encoder\n",
    "encoder = OneHotEncoder(handle_unknown=\"ignore\", sparse=False)\n",
    "\n",
    "# Encode categorical features\n",
    "encoded_data = encoder.fit_transform(train_data[categorical_cols])\n",
    "\n",
    "# Convert encoded data to DataFrame\n",
    "encoded_df = pd.DataFrame(encoded_data, columns=encoder.get_feature_names_out())\n",
    "\n",
    "# Append \"_\" to column names to avoid conflicts\n",
    "encoded_df.columns = [col + \"_\" for col in encoded_df.columns]\n"
   ]
  },
  {
   "cell_type": "code",
   "execution_count": 19,
   "id": "d8641529",
   "metadata": {},
   "outputs": [
    {
     "data": {
      "text/html": [
       "<div>\n",
       "<style scoped>\n",
       "    .dataframe tbody tr th:only-of-type {\n",
       "        vertical-align: middle;\n",
       "    }\n",
       "\n",
       "    .dataframe tbody tr th {\n",
       "        vertical-align: top;\n",
       "    }\n",
       "\n",
       "    .dataframe thead th {\n",
       "        text-align: right;\n",
       "    }\n",
       "</style>\n",
       "<table border=\"1\" class=\"dataframe\">\n",
       "  <thead>\n",
       "    <tr style=\"text-align: right;\">\n",
       "      <th></th>\n",
       "      <th>Sex_female_</th>\n",
       "      <th>Sex_male_</th>\n",
       "      <th>Embarked_C_</th>\n",
       "      <th>Embarked_Q_</th>\n",
       "      <th>Embarked_S_</th>\n",
       "      <th>Embarked_nan_</th>\n",
       "    </tr>\n",
       "  </thead>\n",
       "  <tbody>\n",
       "    <tr>\n",
       "      <th>0</th>\n",
       "      <td>0.0</td>\n",
       "      <td>1.0</td>\n",
       "      <td>0.0</td>\n",
       "      <td>0.0</td>\n",
       "      <td>1.0</td>\n",
       "      <td>0.0</td>\n",
       "    </tr>\n",
       "    <tr>\n",
       "      <th>1</th>\n",
       "      <td>1.0</td>\n",
       "      <td>0.0</td>\n",
       "      <td>1.0</td>\n",
       "      <td>0.0</td>\n",
       "      <td>0.0</td>\n",
       "      <td>0.0</td>\n",
       "    </tr>\n",
       "    <tr>\n",
       "      <th>2</th>\n",
       "      <td>1.0</td>\n",
       "      <td>0.0</td>\n",
       "      <td>0.0</td>\n",
       "      <td>0.0</td>\n",
       "      <td>1.0</td>\n",
       "      <td>0.0</td>\n",
       "    </tr>\n",
       "    <tr>\n",
       "      <th>3</th>\n",
       "      <td>1.0</td>\n",
       "      <td>0.0</td>\n",
       "      <td>0.0</td>\n",
       "      <td>0.0</td>\n",
       "      <td>1.0</td>\n",
       "      <td>0.0</td>\n",
       "    </tr>\n",
       "    <tr>\n",
       "      <th>4</th>\n",
       "      <td>0.0</td>\n",
       "      <td>1.0</td>\n",
       "      <td>0.0</td>\n",
       "      <td>0.0</td>\n",
       "      <td>1.0</td>\n",
       "      <td>0.0</td>\n",
       "    </tr>\n",
       "    <tr>\n",
       "      <th>...</th>\n",
       "      <td>...</td>\n",
       "      <td>...</td>\n",
       "      <td>...</td>\n",
       "      <td>...</td>\n",
       "      <td>...</td>\n",
       "      <td>...</td>\n",
       "    </tr>\n",
       "    <tr>\n",
       "      <th>886</th>\n",
       "      <td>0.0</td>\n",
       "      <td>1.0</td>\n",
       "      <td>0.0</td>\n",
       "      <td>0.0</td>\n",
       "      <td>1.0</td>\n",
       "      <td>0.0</td>\n",
       "    </tr>\n",
       "    <tr>\n",
       "      <th>887</th>\n",
       "      <td>1.0</td>\n",
       "      <td>0.0</td>\n",
       "      <td>0.0</td>\n",
       "      <td>0.0</td>\n",
       "      <td>1.0</td>\n",
       "      <td>0.0</td>\n",
       "    </tr>\n",
       "    <tr>\n",
       "      <th>888</th>\n",
       "      <td>1.0</td>\n",
       "      <td>0.0</td>\n",
       "      <td>0.0</td>\n",
       "      <td>0.0</td>\n",
       "      <td>1.0</td>\n",
       "      <td>0.0</td>\n",
       "    </tr>\n",
       "    <tr>\n",
       "      <th>889</th>\n",
       "      <td>0.0</td>\n",
       "      <td>1.0</td>\n",
       "      <td>1.0</td>\n",
       "      <td>0.0</td>\n",
       "      <td>0.0</td>\n",
       "      <td>0.0</td>\n",
       "    </tr>\n",
       "    <tr>\n",
       "      <th>890</th>\n",
       "      <td>0.0</td>\n",
       "      <td>1.0</td>\n",
       "      <td>0.0</td>\n",
       "      <td>1.0</td>\n",
       "      <td>0.0</td>\n",
       "      <td>0.0</td>\n",
       "    </tr>\n",
       "  </tbody>\n",
       "</table>\n",
       "<p>891 rows × 6 columns</p>\n",
       "</div>"
      ],
      "text/plain": [
       "     Sex_female_  Sex_male_  Embarked_C_  Embarked_Q_  Embarked_S_  \\\n",
       "0            0.0        1.0          0.0          0.0          1.0   \n",
       "1            1.0        0.0          1.0          0.0          0.0   \n",
       "2            1.0        0.0          0.0          0.0          1.0   \n",
       "3            1.0        0.0          0.0          0.0          1.0   \n",
       "4            0.0        1.0          0.0          0.0          1.0   \n",
       "..           ...        ...          ...          ...          ...   \n",
       "886          0.0        1.0          0.0          0.0          1.0   \n",
       "887          1.0        0.0          0.0          0.0          1.0   \n",
       "888          1.0        0.0          0.0          0.0          1.0   \n",
       "889          0.0        1.0          1.0          0.0          0.0   \n",
       "890          0.0        1.0          0.0          1.0          0.0   \n",
       "\n",
       "     Embarked_nan_  \n",
       "0              0.0  \n",
       "1              0.0  \n",
       "2              0.0  \n",
       "3              0.0  \n",
       "4              0.0  \n",
       "..             ...  \n",
       "886            0.0  \n",
       "887            0.0  \n",
       "888            0.0  \n",
       "889            0.0  \n",
       "890            0.0  \n",
       "\n",
       "[891 rows x 6 columns]"
      ]
     },
     "execution_count": 19,
     "metadata": {},
     "output_type": "execute_result"
    }
   ],
   "source": [
    "encoded_df"
   ]
  },
  {
   "cell_type": "code",
   "execution_count": 26,
   "id": "e71bb7a1",
   "metadata": {},
   "outputs": [
    {
     "data": {
      "image/png": "[encoded data removed]",
      "text/plain": [
       "<Figure size 2000x2000 with 4 Axes>"
      ]
     },
     "metadata": {},
     "output_type": "display_data"
    }
   ],
   "source": [
    "#Check Outliers\n",
    "import matplotlib.pyplot as plt\n",
    "import seaborn as sns\n",
    "\n",
    "numerical_data = train_data[numerical_cols]\n",
    "\n",
    "\n",
    "plt.figure(figsize=(20,20))\n",
    "for i, col in enumerate(numerical_data):\n",
    "    plt.subplot(10, 4, i+1)\n",
    "    sns.boxplot(x = numerical_data[col]) \n",
    "plt.show()"
   ]
  },
  {
   "cell_type": "code",
   "execution_count": 27,
   "id": "7902f5b2",
   "metadata": {},
   "outputs": [],
   "source": [
    "import pandas as pd\n",
    "import numpy as np\n",
    "\n",
    "# Calculate IQR and identify outliers\n",
    "Q1 = numerical_data.quantile(0.25)\n",
    "Q3 = numerical_data.quantile(0.75)\n",
    "IQR = Q3 - Q1\n",
    "lower_bound = Q1 - 1.5 * IQR  # Adjust threshold if needed\n",
    "upper_bound = Q3 + 1.5 * IQR\n",
    "\n",
    "# Adjust threshold for extreme outliers\n",
    "lower_bound_extreme = Q1 - 3 * IQR\n",
    "upper_bound_extreme = Q3 + 3 * IQR\n",
    "\n",
    "outlier_mask = ~((numerical_data < lower_bound) | (numerical_data > upper_bound)).any(axis=1)\n",
    "\n",
    "extreme_outlier_mask = ~((numerical_data < lower_bound_extreme) | (numerical_data > upper_bound_extreme)).any(axis=1)\n",
    "\n",
    "# Remove both regular and extreme outliers\n",
    "numerical_data_clean = numerical_data[outlier_mask & extreme_outlier_mask]\n"
   ]
  },
  {
   "cell_type": "code",
   "execution_count": 28,
   "id": "42e07cbc",
   "metadata": {},
   "outputs": [],
   "source": [
    "from sklearn.preprocessing import StandardScaler\n",
    "\n",
    "# Select numerical features\n",
    "\n",
    "# Apply StandardScaler to numerical features\n",
    "scaler = StandardScaler()\n",
    "numerical_data_scaled = scaler.fit_transform(numerical_data_clean)\n"
   ]
  },
  {
   "cell_type": "code",
   "execution_count": 29,
   "id": "eb6213be",
   "metadata": {},
   "outputs": [],
   "source": [
    "\n",
    "# Concatenate numerical and encoded DataFrames (using scaled numerical data)\n",
    "processed_data = pd.concat([pd.DataFrame(numerical_data_scaled, columns=numerical_cols), encoded_df], axis=1)\n"
   ]
  },
  {
   "cell_type": "code",
   "execution_count": 30,
   "id": "0a6b51eb",
   "metadata": {},
   "outputs": [
    {
     "data": {
      "text/html": [
       "<div>\n",
       "<style scoped>\n",
       "    .dataframe tbody tr th:only-of-type {\n",
       "        vertical-align: middle;\n",
       "    }\n",
       "\n",
       "    .dataframe tbody tr th {\n",
       "        vertical-align: top;\n",
       "    }\n",
       "\n",
       "    .dataframe thead th {\n",
       "        text-align: right;\n",
       "    }\n",
       "</style>\n",
       "<table border=\"1\" class=\"dataframe\">\n",
       "  <thead>\n",
       "    <tr style=\"text-align: right;\">\n",
       "      <th></th>\n",
       "      <th>Age</th>\n",
       "      <th>SibSp</th>\n",
       "      <th>Parch</th>\n",
       "      <th>Fare</th>\n",
       "      <th>Sex_female_</th>\n",
       "      <th>Sex_male_</th>\n",
       "      <th>Embarked_C_</th>\n",
       "      <th>Embarked_Q_</th>\n",
       "      <th>Embarked_S_</th>\n",
       "      <th>Embarked_nan_</th>\n",
       "    </tr>\n",
       "  </thead>\n",
       "  <tbody>\n",
       "    <tr>\n",
       "      <th>0</th>\n",
       "      <td>-0.909802</td>\n",
       "      <td>1.800735</td>\n",
       "      <td>0.0</td>\n",
       "      <td>-0.609448</td>\n",
       "      <td>0.0</td>\n",
       "      <td>1.0</td>\n",
       "      <td>0.0</td>\n",
       "      <td>0.0</td>\n",
       "      <td>1.0</td>\n",
       "      <td>0.0</td>\n",
       "    </tr>\n",
       "    <tr>\n",
       "      <th>1</th>\n",
       "      <td>-0.439745</td>\n",
       "      <td>-0.448235</td>\n",
       "      <td>0.0</td>\n",
       "      <td>-0.555858</td>\n",
       "      <td>1.0</td>\n",
       "      <td>0.0</td>\n",
       "      <td>1.0</td>\n",
       "      <td>0.0</td>\n",
       "      <td>0.0</td>\n",
       "      <td>0.0</td>\n",
       "    </tr>\n",
       "    <tr>\n",
       "      <th>2</th>\n",
       "      <td>0.617882</td>\n",
       "      <td>1.800735</td>\n",
       "      <td>0.0</td>\n",
       "      <td>3.030715</td>\n",
       "      <td>1.0</td>\n",
       "      <td>0.0</td>\n",
       "      <td>0.0</td>\n",
       "      <td>0.0</td>\n",
       "      <td>1.0</td>\n",
       "      <td>0.0</td>\n",
       "    </tr>\n",
       "    <tr>\n",
       "      <th>3</th>\n",
       "      <td>0.617882</td>\n",
       "      <td>-0.448235</td>\n",
       "      <td>0.0</td>\n",
       "      <td>-0.545934</td>\n",
       "      <td>1.0</td>\n",
       "      <td>0.0</td>\n",
       "      <td>0.0</td>\n",
       "      <td>0.0</td>\n",
       "      <td>1.0</td>\n",
       "      <td>0.0</td>\n",
       "    </tr>\n",
       "    <tr>\n",
       "      <th>4</th>\n",
       "      <td>-0.005046</td>\n",
       "      <td>-0.448235</td>\n",
       "      <td>0.0</td>\n",
       "      <td>-0.513517</td>\n",
       "      <td>0.0</td>\n",
       "      <td>1.0</td>\n",
       "      <td>0.0</td>\n",
       "      <td>0.0</td>\n",
       "      <td>1.0</td>\n",
       "      <td>0.0</td>\n",
       "    </tr>\n",
       "    <tr>\n",
       "      <th>...</th>\n",
       "      <td>...</td>\n",
       "      <td>...</td>\n",
       "      <td>...</td>\n",
       "      <td>...</td>\n",
       "      <td>...</td>\n",
       "      <td>...</td>\n",
       "      <td>...</td>\n",
       "      <td>...</td>\n",
       "      <td>...</td>\n",
       "      <td>...</td>\n",
       "    </tr>\n",
       "    <tr>\n",
       "      <th>886</th>\n",
       "      <td>NaN</td>\n",
       "      <td>NaN</td>\n",
       "      <td>NaN</td>\n",
       "      <td>NaN</td>\n",
       "      <td>0.0</td>\n",
       "      <td>1.0</td>\n",
       "      <td>0.0</td>\n",
       "      <td>0.0</td>\n",
       "      <td>1.0</td>\n",
       "      <td>0.0</td>\n",
       "    </tr>\n",
       "    <tr>\n",
       "      <th>887</th>\n",
       "      <td>NaN</td>\n",
       "      <td>NaN</td>\n",
       "      <td>NaN</td>\n",
       "      <td>NaN</td>\n",
       "      <td>1.0</td>\n",
       "      <td>0.0</td>\n",
       "      <td>0.0</td>\n",
       "      <td>0.0</td>\n",
       "      <td>1.0</td>\n",
       "      <td>0.0</td>\n",
       "    </tr>\n",
       "    <tr>\n",
       "      <th>888</th>\n",
       "      <td>NaN</td>\n",
       "      <td>NaN</td>\n",
       "      <td>NaN</td>\n",
       "      <td>NaN</td>\n",
       "      <td>1.0</td>\n",
       "      <td>0.0</td>\n",
       "      <td>0.0</td>\n",
       "      <td>0.0</td>\n",
       "      <td>1.0</td>\n",
       "      <td>0.0</td>\n",
       "    </tr>\n",
       "    <tr>\n",
       "      <th>889</th>\n",
       "      <td>NaN</td>\n",
       "      <td>NaN</td>\n",
       "      <td>NaN</td>\n",
       "      <td>NaN</td>\n",
       "      <td>0.0</td>\n",
       "      <td>1.0</td>\n",
       "      <td>1.0</td>\n",
       "      <td>0.0</td>\n",
       "      <td>0.0</td>\n",
       "      <td>0.0</td>\n",
       "    </tr>\n",
       "    <tr>\n",
       "      <th>890</th>\n",
       "      <td>NaN</td>\n",
       "      <td>NaN</td>\n",
       "      <td>NaN</td>\n",
       "      <td>NaN</td>\n",
       "      <td>0.0</td>\n",
       "      <td>1.0</td>\n",
       "      <td>0.0</td>\n",
       "      <td>1.0</td>\n",
       "      <td>0.0</td>\n",
       "      <td>0.0</td>\n",
       "    </tr>\n",
       "  </tbody>\n",
       "</table>\n",
       "<p>891 rows × 10 columns</p>\n",
       "</div>"
      ],
      "text/plain": [
       "          Age     SibSp  Parch      Fare  Sex_female_  Sex_male_  Embarked_C_  \\\n",
       "0   -0.909802  1.800735    0.0 -0.609448          0.0        1.0          0.0   \n",
       "1   -0.439745 -0.448235    0.0 -0.555858          1.0        0.0          1.0   \n",
       "2    0.617882  1.800735    0.0  3.030715          1.0        0.0          0.0   \n",
       "3    0.617882 -0.448235    0.0 -0.545934          1.0        0.0          0.0   \n",
       "4   -0.005046 -0.448235    0.0 -0.513517          0.0        1.0          0.0   \n",
       "..        ...       ...    ...       ...          ...        ...          ...   \n",
       "886       NaN       NaN    NaN       NaN          0.0        1.0          0.0   \n",
       "887       NaN       NaN    NaN       NaN          1.0        0.0          0.0   \n",
       "888       NaN       NaN    NaN       NaN          1.0        0.0          0.0   \n",
       "889       NaN       NaN    NaN       NaN          0.0        1.0          1.0   \n",
       "890       NaN       NaN    NaN       NaN          0.0        1.0          0.0   \n",
       "\n",
       "     Embarked_Q_  Embarked_S_  Embarked_nan_  \n",
       "0            0.0          1.0            0.0  \n",
       "1            0.0          0.0            0.0  \n",
       "2            0.0          1.0            0.0  \n",
       "3            0.0          1.0            0.0  \n",
       "4            0.0          1.0            0.0  \n",
       "..           ...          ...            ...  \n",
       "886          0.0          1.0            0.0  \n",
       "887          0.0          1.0            0.0  \n",
       "888          0.0          1.0            0.0  \n",
       "889          0.0          0.0            0.0  \n",
       "890          1.0          0.0            0.0  \n",
       "\n",
       "[891 rows x 10 columns]"
      ]
     },
     "execution_count": 30,
     "metadata": {},
     "output_type": "execute_result"
    }
   ],
   "source": [
    "processed_data"
   ]
  },
  {
   "cell_type": "code",
   "execution_count": 31,
   "id": "98e2ca3e",
   "metadata": {},
   "outputs": [],
   "source": [
    "processed_data.fillna(processed_data.mean(),inplace=True)\n"
   ]
  },
  {
   "cell_type": "markdown",
   "id": "a9ec2b9e",
   "metadata": {},
   "source": [
    "## Q 1-----------------------------------------"
   ]
  },
  {
   "cell_type": "code",
   "execution_count": 32,
   "id": "d828a301",
   "metadata": {},
   "outputs": [],
   "source": [
    "# generate 80/20 split from the train.csv file \n",
    "from sklearn.model_selection import train_test_split\n",
    "\n",
    "# Separate features (X) and target variable (y)\n",
    "\n",
    "y = train_data[\"Survived\"]  # Target variable\n",
    "\n",
    "# Generate the 80/20 split\n",
    "X_train, X_test, y_train, y_test = train_test_split(processed_data, y, test_size=0.2, random_state=42)\n",
    "\n",
    "\n"
   ]
  },
  {
   "cell_type": "code",
   "execution_count": 34,
   "id": "9aceb076",
   "metadata": {},
   "outputs": [],
   "source": [
    "# make different 100 splits\n",
    "from sklearn.model_selection import KFold\n",
    "kf = KFold(n_splits=5, shuffle=True, random_state=42)  # Set random_state for reproducibility\n",
    "\n",
    "\n",
    "splits = []\n",
    "for i in range(100):\n",
    "    for train_index, test_index in kf.split(processed_data):\n",
    "        X_train, X_test = processed_data.iloc[train_index], processed_data.iloc[test_index]\n",
    "        y_train, y_test = y.iloc[train_index], y.iloc[test_index]\n",
    "        splits.append((X_train, X_test, y_train, y_test))\n",
    "\n"
   ]
  },
  {
   "cell_type": "code",
   "execution_count": 35,
   "id": "606c464d",
   "metadata": {},
   "outputs": [
    {
     "data": {
      "text/html": [
       "<style>#sk-container-id-1 {color: black;}#sk-container-id-1 pre{padding: 0;}#sk-container-id-1 div.sk-toggleable {background-color: white;}#sk-container-id-1 label.sk-toggleable__label {cursor: pointer;display: block;width: 100%;margin-bottom: 0;padding: 0.3em;box-sizing: border-box;text-align: center;}#sk-container-id-1 label.sk-toggleable__label-arrow:before {content: \"▸\";float: left;margin-right: 0.25em;color: #696969;}#sk-container-id-1 label.sk-toggleable__label-arrow:hover:before {color: black;}#sk-container-id-1 div.sk-estimator:hover label.sk-toggleable__label-arrow:before {color: black;}#sk-container-id-1 div.sk-toggleable__content {max-height: 0;max-width: 0;overflow: hidden;text-align: left;background-color: #f0f8ff;}#sk-container-id-1 div.sk-toggleable__content pre {margin: 0.2em;color: black;border-radius: 0.25em;background-color: #f0f8ff;}#sk-container-id-1 input.sk-toggleable__control:checked~div.sk-toggleable__content {max-height: 200px;max-width: 100%;overflow: auto;}#sk-container-id-1 input.sk-toggleable__control:checked~label.sk-toggleable__label-arrow:before {content: \"▾\";}#sk-container-id-1 div.sk-estimator input.sk-toggleable__control:checked~label.sk-toggleable__label {background-color: #d4ebff;}#sk-container-id-1 div.sk-label input.sk-toggleable__control:checked~label.sk-toggleable__label {background-color: #d4ebff;}#sk-container-id-1 input.sk-hidden--visually {border: 0;clip: rect(1px 1px 1px 1px);clip: rect(1px, 1px, 1px, 1px);height: 1px;margin: -1px;overflow: hidden;padding: 0;position: absolute;width: 1px;}#sk-container-id-1 div.sk-estimator {font-family: monospace;background-color: #f0f8ff;border: 1px dotted black;border-radius: 0.25em;box-sizing: border-box;margin-bottom: 0.5em;}#sk-container-id-1 div.sk-estimator:hover {background-color: #d4ebff;}#sk-container-id-1 div.sk-parallel-item::after {content: \"\";width: 100%;border-bottom: 1px solid gray;flex-grow: 1;}#sk-container-id-1 div.sk-label:hover label.sk-toggleable__label {background-color: #d4ebff;}#sk-container-id-1 div.sk-serial::before {content: \"\";position: absolute;border-left: 1px solid gray;box-sizing: border-box;top: 0;bottom: 0;left: 50%;z-index: 0;}#sk-container-id-1 div.sk-serial {display: flex;flex-direction: column;align-items: center;background-color: white;padding-right: 0.2em;padding-left: 0.2em;position: relative;}#sk-container-id-1 div.sk-item {position: relative;z-index: 1;}#sk-container-id-1 div.sk-parallel {display: flex;align-items: stretch;justify-content: center;background-color: white;position: relative;}#sk-container-id-1 div.sk-item::before, #sk-container-id-1 div.sk-parallel-item::before {content: \"\";position: absolute;border-left: 1px solid gray;box-sizing: border-box;top: 0;bottom: 0;left: 50%;z-index: -1;}#sk-container-id-1 div.sk-parallel-item {display: flex;flex-direction: column;z-index: 1;position: relative;background-color: white;}#sk-container-id-1 div.sk-parallel-item:first-child::after {align-self: flex-end;width: 50%;}#sk-container-id-1 div.sk-parallel-item:last-child::after {align-self: flex-start;width: 50%;}#sk-container-id-1 div.sk-parallel-item:only-child::after {width: 0;}#sk-container-id-1 div.sk-dashed-wrapped {border: 1px dashed gray;margin: 0 0.4em 0.5em 0.4em;box-sizing: border-box;padding-bottom: 0.4em;background-color: white;}#sk-container-id-1 div.sk-label label {font-family: monospace;font-weight: bold;display: inline-block;line-height: 1.2em;}#sk-container-id-1 div.sk-label-container {text-align: center;}#sk-container-id-1 div.sk-container {/* jupyter's `normalize.less` sets `[hidden] { display: none; }` but bootstrap.min.css set `[hidden] { display: none !important; }` so we also need the `!important` here to be able to override the default hidden behavior on the sphinx rendered scikit-learn.org. See: https://github.com/scikit-learn/scikit-learn/issues/21755 */display: inline-block !important;position: relative;}#sk-container-id-1 div.sk-text-repr-fallback {display: none;}</style><div id=\"sk-container-id-1\" class=\"sk-top-container\"><div class=\"sk-text-repr-fallback\"><pre>DecisionTreeClassifier()</pre><b>In a Jupyter environment, please rerun this cell to show the HTML representation or trust the notebook. <br />On GitHub, the HTML representation is unable to render, please try loading this page with nbviewer.org.</b></div><div class=\"sk-container\" hidden><div class=\"sk-item\"><div class=\"sk-estimator sk-toggleable\"><input class=\"sk-toggleable__control sk-hidden--visually\" id=\"sk-estimator-id-1\" type=\"checkbox\" checked><label for=\"sk-estimator-id-1\" class=\"sk-toggleable__label sk-toggleable__label-arrow\">DecisionTreeClassifier</label><div class=\"sk-toggleable__content\"><pre>DecisionTreeClassifier()</pre></div></div></div></div></div>"
      ],
      "text/plain": [
       "DecisionTreeClassifier()"
      ]
     },
     "execution_count": 35,
     "metadata": {},
     "output_type": "execute_result"
    }
   ],
   "source": [
    "# implement decision tree classifier [unlimited depth]\n",
    "from sklearn.tree import DecisionTreeClassifier\n",
    "\n",
    "# Create the decision tree classifier with unlimited depth\n",
    "model = DecisionTreeClassifier(max_depth=None)\n",
    "\n",
    "# Train the model on your training data (replace X_train and y_train with your actual data)\n",
    "model.fit(X_train, y_train)\n"
   ]
  },
  {
   "cell_type": "code",
   "execution_count": 36,
   "id": "287f359e",
   "metadata": {},
   "outputs": [
    {
     "data": {
      "text/plain": [
       "0.906030855539972"
      ]
     },
     "execution_count": 36,
     "metadata": {},
     "output_type": "execute_result"
    }
   ],
   "source": [
    "from sklearn.metrics import accuracy_score\n",
    "\n",
    "train_predictions= model.predict(X_train)\n",
    "# Calculate training accuracy\n",
    "train_accuracy = accuracy_score(y_train, train_predictions)\n",
    "train_accuracy"
   ]
  },
  {
   "cell_type": "code",
   "execution_count": 37,
   "id": "835b31ba",
   "metadata": {},
   "outputs": [
    {
     "data": {
      "text/plain": [
       "0.702247191011236"
      ]
     },
     "execution_count": 37,
     "metadata": {},
     "output_type": "execute_result"
    }
   ],
   "source": [
    "\n",
    "# Make predictions on your test data (replace X_test with your actual test data)\n",
    "test_predictions = model.predict(X_test)\n",
    "test_accuracy = accuracy_score(y_test, test_predictions)\n",
    "test_accuracy"
   ]
  },
  {
   "cell_type": "markdown",
   "id": "c0bc5238",
   "metadata": {},
   "source": [
    "### What is the accuracy decision tree classifier with unlimited depth.<br>\n",
    "### average the results over 100 random 80/20 splits."
   ]
  },
  {
   "cell_type": "code",
   "execution_count": 38,
   "id": "83c37358",
   "metadata": {},
   "outputs": [
    {
     "name": "stdout",
     "output_type": "stream",
     "text": [
      "Average accuracy over 100 splits: 0.7117877094972065\n"
     ]
    }
   ],
   "source": [
    "# Initialize list to store accuracies\n",
    "accuracies = []\n",
    "\n",
    "# Repeat the process 100 times\n",
    "for i in range(100):\n",
    "    # Split data into 80/20 train/test sets with random state for reproducibility\n",
    "    X_train, X_test, y_train, y_test = train_test_split(processed_data, y, test_size=0.2, random_state=i)\n",
    "\n",
    "    # Create the decision tree with unlimited depth\n",
    "    model = DecisionTreeClassifier(max_depth=None)\n",
    "\n",
    "    # Train the model\n",
    "    model.fit(X_train, y_train)\n",
    "\n",
    "    # Make predictions on the test set\n",
    "    predictions = model.predict(X_test)\n",
    "\n",
    "    # Calculate accuracy\n",
    "    accuracy = accuracy_score(y_test, predictions)\n",
    "\n",
    "    # Append accuracy to the list\n",
    "    accuracies.append(accuracy)\n",
    "\n",
    "# Calculate the average accuracy\n",
    "average_accuracy = sum(accuracies) / len(accuracies)\n",
    "\n",
    "print(\"Average accuracy over 100 splits:\", average_accuracy)\n"
   ]
  },
  {
   "cell_type": "markdown",
   "id": "48a06cd2",
   "metadata": {},
   "source": [
    "## Q 2 -------------------------------------------------------"
   ]
  },
  {
   "cell_type": "code",
   "execution_count": null,
   "id": "7876f189",
   "metadata": {},
   "outputs": [],
   "source": [
    "# do the same as Q1 ,  (average 100 experiments), but do it for increasing depth limits from 0 to 10"
   ]
  },
  {
   "cell_type": "code",
   "execution_count": 47,
   "id": "ecb9d47d",
   "metadata": {},
   "outputs": [
    {
     "name": "stdout",
     "output_type": "stream",
     "text": [
      "Average accuracy for depth limit 1: 0.7868\n",
      "Average accuracy for depth limit 2: 0.7868\n",
      "Average accuracy for depth limit 3: 0.7744\n",
      "Average accuracy for depth limit 4: 0.7565\n",
      "Average accuracy for depth limit 5: 0.7531\n",
      "Average accuracy for depth limit 6: 0.7385\n",
      "Average accuracy for depth limit 7: 0.7374\n",
      "Average accuracy for depth limit 8: 0.7262\n",
      "Average accuracy for depth limit 9: 0.7295\n"
     ]
    }
   ],
   "source": [
    "\n",
    "# Explore different depth limits\n",
    "average_accuracies = []\n",
    "\n",
    "for max_depth in range(1,10):  # Iterate from 1 to 10\n",
    "    accuracies = []\n",
    "\n",
    "    # base model current depth limit\n",
    "    model = DecisionTreeClassifier(max_depth=max_depth, random_state=42)\n",
    "\n",
    "    # Iterate through the splits to perform experiments\n",
    "    for X_train, X_test, y_train, y_test in splits:\n",
    "        X_train_split, y_train_split = X_train, y_train\n",
    "        X_test_split, y_test_split = X_test, y_test\n",
    "\n",
    "        # Fit the model\n",
    "        model.fit(X_train_split, y_train_split)\n",
    "        # Make predictions\n",
    "        y_pred = model.predict(X_test_split)\n",
    "\n",
    "        # Evaluate the model (replace accuracy_score with your actual metric)\n",
    "        accuracy = accuracy_score(y_test_split, y_pred)\n",
    "        accuracies.append(accuracy)\n",
    "\n",
    "    # Calculate the average accuracy for the current depth limit\n",
    "    average_accuracy = np.mean(accuracies)\n",
    "    average_accuracies.append(average_accuracy)\n",
    "\n",
    "\n",
    "\n",
    "\n",
    "    # Calculate the average accuracy for the current depth limit\n",
    "    average_accuracy = sum(accuracies) / len(accuracies)\n",
    "\n",
    "    print(f\"Average accuracy for depth limit {max_depth}: {average_accuracy:.4f}\")\n"
   ]
  },
  {
   "cell_type": "markdown",
   "id": "f8e3df34",
   "metadata": {},
   "source": [
    "## What is the best depth limit to use for this data?"
   ]
  },
  {
   "cell_type": "markdown",
   "id": "04a48e03",
   "metadata": {},
   "source": [
    "The best depth limit is depth limit 2"
   ]
  },
  {
   "cell_type": "code",
   "execution_count": null,
   "id": "397acc06",
   "metadata": {},
   "outputs": [],
   "source": []
  },
  {
   "cell_type": "markdown",
   "id": "0618f2f8",
   "metadata": {},
   "source": [
    "# Q 3---------------------------------------------------"
   ]
  },
  {
   "cell_type": "code",
   "execution_count": 56,
   "id": "cbe8d104",
   "metadata": {},
   "outputs": [],
   "source": [
    "# repeat Q 2 and calculate the accuracy calculate the accuracy this time on both the testing data\n",
    "#(like before) and the training data. Create a graph with these results and then provide a 1-2\n",
    "#sentence answer describing the graph."
   ]
  },
  {
   "cell_type": "code",
   "execution_count": 48,
   "id": "2ae1c840",
   "metadata": {},
   "outputs": [
    {
     "name": "stdout",
     "output_type": "stream",
     "text": [
      "Average test accuracy for depth limit 1: 0.7472\n",
      "Average train accuracy for depth limit 1: 0.8471\n",
      "Average test accuracy for depth limit 2: 0.7472\n",
      "Average train accuracy for depth limit 2: 0.8471\n",
      "Average test accuracy for depth limit 3: 0.7472\n",
      "Average train accuracy for depth limit 3: 0.8471\n",
      "Average test accuracy for depth limit 4: 0.7472\n",
      "Average train accuracy for depth limit 4: 0.8471\n",
      "Average test accuracy for depth limit 5: 0.7472\n",
      "Average train accuracy for depth limit 5: 0.8471\n",
      "Average test accuracy for depth limit 6: 0.7472\n",
      "Average train accuracy for depth limit 6: 0.8471\n",
      "Average test accuracy for depth limit 7: 0.7472\n",
      "Average train accuracy for depth limit 7: 0.8471\n",
      "Average test accuracy for depth limit 8: 0.7472\n",
      "Average train accuracy for depth limit 8: 0.8471\n",
      "Average test accuracy for depth limit 9: 0.7472\n",
      "Average train accuracy for depth limit 9: 0.8471\n",
      "Average test accuracy for depth limit 10: 0.7472\n",
      "Average train accuracy for depth limit 10: 0.8471\n"
     ]
    }
   ],
   "source": [
    "import pandas as pd\n",
    "from sklearn.tree import DecisionTreeClassifier\n",
    "from sklearn.model_selection import train_test_split\n",
    "from sklearn.metrics import accuracy_score\n",
    "import matplotlib.pyplot as plt  # Import for plotting\n",
    "\n",
    "# ... (rest of the code)\n",
    "results=[]\n",
    "# Loop through depth limits\n",
    "for max_depth in range(1, 11):\n",
    "    test_accuracies = []\n",
    "    train_accuracies = []\n",
    "\n",
    "    # Repeat 100 times for each depth limit\n",
    "    for i in range(100):\n",
    "\n",
    "        # Make predictions on the test set\n",
    "        test_predictions = model.predict(X_test)\n",
    "        train_predictions= model.predict(X_train)\n",
    "     \n",
    "                # Calculate training and testing accuracy\n",
    "        train_accuracy = accuracy_score(y_train, train_predictions)\n",
    "        test_accuracy = accuracy_score(y_test, test_predictions)\n",
    "\n",
    "\n",
    "        # Append accuracies to lists\n",
    "        test_accuracies.append(test_accuracy)\n",
    "        train_accuracies.append(train_accuracy)\n",
    "\n",
    "    # Calculate average accuracies\n",
    "    avg_test_accuracy = sum(test_accuracies) / len(test_accuracies)\n",
    "    avg_train_accuracy = sum(train_accuracies) / len(train_accuracies)\n",
    "\n",
    "    print(f\"Average test accuracy for depth limit {max_depth}: {avg_test_accuracy:.4f}\")\n",
    "    print(f\"Average train accuracy for depth limit {max_depth}: {avg_train_accuracy:.4f}\")\n",
    "\n",
    "    # Store results for plotting\n",
    "    results.append((max_depth, avg_test_accuracy, avg_train_accuracy))\n",
    "\n"
   ]
  },
  {
   "cell_type": "code",
   "execution_count": 49,
   "id": "7364f121",
   "metadata": {},
   "outputs": [
    {
     "data": {
      "text/plain": [
       "[(1, 0.7471910112359551, 0.8471248246844324),\n",
       " (2, 0.7471910112359551, 0.8471248246844324),\n",
       " (3, 0.7471910112359551, 0.8471248246844324),\n",
       " (4, 0.7471910112359551, 0.8471248246844324),\n",
       " (5, 0.7471910112359551, 0.8471248246844324),\n",
       " (6, 0.7471910112359551, 0.8471248246844324),\n",
       " (7, 0.7471910112359551, 0.8471248246844324),\n",
       " (8, 0.7471910112359551, 0.8471248246844324),\n",
       " (9, 0.7471910112359551, 0.8471248246844324),\n",
       " (10, 0.7471910112359551, 0.8471248246844324)]"
      ]
     },
     "execution_count": 49,
     "metadata": {},
     "output_type": "execute_result"
    }
   ],
   "source": [
    "results"
   ]
  },
  {
   "cell_type": "code",
   "execution_count": 50,
   "id": "b70552ea",
   "metadata": {},
   "outputs": [
    {
     "data": {
      "image/png": "[encoded data removed]",
      "text/plain": [
       "<Figure size 640x480 with 1 Axes>"
      ]
     },
     "metadata": {},
     "output_type": "display_data"
    }
   ],
   "source": [
    "# Create the graph\n",
    "depths, test_accs, train_accs = zip(*results)  # Unpack results\n",
    "plt.plot(depths, test_accs, label=\"Test Accuracy\")\n",
    "plt.plot(depths, train_accs, label=\"Train Accuracy\")\n",
    "plt.xlabel(\"Depth Limit\")\n",
    "plt.ylabel(\"Accuracy\")\n",
    "plt.title(\"Accuracy vs. Depth Limit for Decision Tree\")\n",
    "plt.legend()\n",
    "plt.show()\n"
   ]
  },
  {
   "cell_type": "markdown",
   "id": "a274c338",
   "metadata": {},
   "source": [
    "# Is there overfitting?"
   ]
  },
  {
   "cell_type": "markdown",
   "id": "f0b9e10f",
   "metadata": {},
   "source": [
    "yes , there is overfitting"
   ]
  },
  {
   "cell_type": "code",
   "execution_count": null,
   "id": "e7553d8d",
   "metadata": {},
   "outputs": [],
   "source": []
  },
  {
   "cell_type": "code",
   "execution_count": null,
   "id": "ebc621f1",
   "metadata": {},
   "outputs": [],
   "source": []
  },
  {
   "cell_type": "markdown",
   "id": "8660ff42",
   "metadata": {},
   "source": [
    "# Q 4---------------------------------------"
   ]
  },
  {
   "cell_type": "code",
   "execution_count": 51,
   "id": "fc69846d",
   "metadata": {},
   "outputs": [],
   "source": [
    "# do the same calculations as above (average 100 experiments), but start with splits of 0.05 (5% of the data\n",
    "# used for training) and work up to splits of size 0.9 (90% of the data used for training) in\n",
    "# increments of 0.05. \n",
    "# For these experiments use full depth trees, i.e. trees without any depth\n",
    "# limit. Create a graph with these results and then provide a 1-2 sentence answer describing\n",
    "# the graph.\n"
   ]
  },
  {
   "cell_type": "code",
   "execution_count": 55,
   "id": "d36f1e72",
   "metadata": {},
   "outputs": [
    {
     "data": {
      "image/png": "[encoded data removed]",
      "text/plain": [
       "<Figure size 640x480 with 1 Axes>"
      ]
     },
     "metadata": {},
     "output_type": "display_data"
    }
   ],
   "source": [
    "results2=[]\n",
    "test_size_l=[]\n",
    "for test_size in range(5, 91, 5):\n",
    "    test_size = test_size / 100  # Convert to decimal\n",
    "    test_size_l.append(test_size)\n",
    "    test_accuracies = []\n",
    "    train_accuracies = []\n",
    "\n",
    "    # Repeat 100 times for each split size\n",
    "    for i in range(100):\n",
    "        \n",
    "        # Split data with the current test size\n",
    "        X_train, X_test, y_train, y_test = train_test_split(processed_data, y, test_size=test_size, random_state=i)\n",
    "\n",
    "        # Create full-depth decision tree\n",
    "        model = DecisionTreeClassifier(max_depth=None)\n",
    "\n",
    "                # Train the model\n",
    "        model.fit(X_train, y_train)\n",
    "\n",
    "        # Make predictions on the test set\n",
    "        test_predictions = model.predict(X_test)\n",
    "        train_predictions= model.predict(X_train)\n",
    "     \n",
    "                # Calculate training and testing accuracy\n",
    "        train_accuracy = accuracy_score(y_train, train_predictions)\n",
    "        test_accuracy = accuracy_score(y_test, test_predictions)\n",
    "\n",
    "        # Append accuracies to lists\n",
    "        test_accuracies.append(test_accuracy)\n",
    "        train_accuracies.append(train_accuracy)\n",
    "\n",
    "\n",
    "    # Calculate average accuracies and print results\n",
    "    # ...\n",
    "    # Calculate average accuracies\n",
    "    avg_test_accuracy = sum(test_accuracies) / len(test_accuracies)\n",
    "    avg_train_accuracy = sum(train_accuracies) / len(train_accuracies)\n",
    "\n",
    "    # Store results for plotting\n",
    "    results2.append((test_size, avg_test_accuracy, avg_train_accuracy))\n",
    "\n",
    "# Create the graph\n",
    "test_sizes, test_accs, train_accs = zip(*results2)\n",
    "plt.plot(test_sizes, test_accs, label=\"Test Accuracy\")\n",
    "plt.plot(test_sizes, train_accs, label=\"Train Accuracy\")\n",
    "plt.xlabel(\"Test Set Size (Proportion of Data)\")\n",
    "plt.ylabel(\"Accuracy\")\n",
    "plt.title(\"Accuracy vs. Test Set Size for Full-Depth Tree\")\n",
    "plt.legend()\n",
    "plt.show()"
   ]
  },
  {
   "cell_type": "code",
   "execution_count": null,
   "id": "5453dea8",
   "metadata": {},
   "outputs": [],
   "source": []
  },
  {
   "cell_type": "markdown",
   "id": "be8a8e33",
   "metadata": {},
   "source": [
    "## How does the amount of training data affect performance?"
   ]
  },
  {
   "cell_type": "markdown",
   "id": "c82be78d",
   "metadata": {},
   "source": [
    "yes, when increaing the amount of data, the accuracy decreases."
   ]
  },
  {
   "cell_type": "code",
   "execution_count": 60,
   "id": "6f42ec23",
   "metadata": {},
   "outputs": [
    {
     "name": "stdout",
     "output_type": "stream",
     "text": [
      "0\n"
     ]
    }
   ],
   "source": [
    "best_index = np.argmax(test_accs)\n",
    "print(best_index)\n",
    "# Retrieve the corresponding training size and accuracy\n"
   ]
  },
  {
   "cell_type": "code",
   "execution_count": 62,
   "id": "58210aa4",
   "metadata": {},
   "outputs": [
    {
     "name": "stdout",
     "output_type": "stream",
     "text": [
      "Best size: 0.05\n",
      "Best Validation Accuracy: 0.7168888888888887\n"
     ]
    }
   ],
   "source": [
    "best_val_accuracy = test_accs[0]\n",
    "\n",
    "print(f\"Best size: {test_size_l[0]}\")\n",
    "\n",
    "print(f\"Best Validation Accuracy: {best_val_accuracy}\")\n"
   ]
  }
 ],
 "metadata": {
  "kernelspec": {
   "display_name": "Python 3 (ipykernel)",
   "language": "python",
   "name": "python3"
  },
  "language_info": {
   "codemirror_mode": {
    "name": "ipython",
    "version": 3
   },
   "file_extension": ".py",
   "mimetype": "text/x-python",
   "name": "python",
   "nbconvert_exporter": "python",
   "pygments_lexer": "ipython3",
   "version": "3.10.12"
  }
 },
 "nbformat": 4,
 "nbformat_minor": 5
}
